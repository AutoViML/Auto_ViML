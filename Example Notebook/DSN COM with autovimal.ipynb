{
 "cells": [
  {
   "cell_type": "code",
   "execution_count": 2,
   "metadata": {},
   "outputs": [],
   "source": [
    "#import package\n",
    "import numpy as np\n",
    "import pandas as pd\n",
    "import matplotlib.pyplot\n",
    "import seaborn as sns\n",
    "\n",
    "import datasist as ds"
   ]
  },
  {
   "cell_type": "markdown",
   "metadata": {},
   "source": [
    "### Import autoViMal \n",
    "\n",
    "make sure you already install autovimal using pip install autoviml"
   ]
  },
  {
   "cell_type": "code",
   "execution_count": 3,
   "metadata": {},
   "outputs": [
    {
     "name": "stdout",
     "output_type": "stream",
     "text": [
      "Imported Auto_ViML version: 0.1.472. Call using: \n",
      "             m, feats, trainm, testm = Auto_ViML(train, target, test, \n",
      "                                    sample_submission='',\n",
      "                                    scoring_parameter='',\n",
      "                                    hyper_param='GS',feature_reduction=True,\n",
      "                                     Boosting_Flag=None,Binning_Flag=False,\n",
      "                                    Add_Poly=0, Stacking_Flag=False,Imbalanced_Flag=False, \n",
      "                                    verbose=0)\n",
      "            \n",
      "To remove previous versions, perform 'pip uninstall autoviml'\n"
     ]
    }
   ],
   "source": [
    "from autoviml.Auto_ViML import Auto_ViML"
   ]
  },
  {
   "cell_type": "code",
   "execution_count": 4,
   "metadata": {},
   "outputs": [],
   "source": [
    "#Read Dataset\n",
    "train = pd.read_csv(\"df_train2.csv\")\n",
    "test = pd.read_csv(\"df_test2.csv\")"
   ]
  },
  {
   "cell_type": "markdown",
   "metadata": {},
   "source": [
    "##### Display missing value using Datasist "
   ]
  },
  {
   "cell_type": "code",
   "execution_count": 5,
   "metadata": {},
   "outputs": [
    {
     "data": {
      "text/html": [
       "<div>\n",
       "<style scoped>\n",
       "    .dataframe tbody tr th:only-of-type {\n",
       "        vertical-align: middle;\n",
       "    }\n",
       "\n",
       "    .dataframe tbody tr th {\n",
       "        vertical-align: top;\n",
       "    }\n",
       "\n",
       "    .dataframe thead th {\n",
       "        text-align: right;\n",
       "    }\n",
       "</style>\n",
       "<table border=\"1\" class=\"dataframe\">\n",
       "  <thead>\n",
       "    <tr style=\"text-align: right;\">\n",
       "      <th></th>\n",
       "      <th>features</th>\n",
       "      <th>missing_counts</th>\n",
       "      <th>missing_percent</th>\n",
       "    </tr>\n",
       "  </thead>\n",
       "  <tbody>\n",
       "    <tr>\n",
       "      <th>0</th>\n",
       "      <td>EmployeeNo</td>\n",
       "      <td>0</td>\n",
       "      <td>0.0</td>\n",
       "    </tr>\n",
       "    <tr>\n",
       "      <th>1</th>\n",
       "      <td>Division</td>\n",
       "      <td>0</td>\n",
       "      <td>0.0</td>\n",
       "    </tr>\n",
       "    <tr>\n",
       "      <th>2</th>\n",
       "      <td>Qualification</td>\n",
       "      <td>0</td>\n",
       "      <td>0.0</td>\n",
       "    </tr>\n",
       "    <tr>\n",
       "      <th>3</th>\n",
       "      <td>Gender</td>\n",
       "      <td>0</td>\n",
       "      <td>0.0</td>\n",
       "    </tr>\n",
       "    <tr>\n",
       "      <th>4</th>\n",
       "      <td>Channel_of_Recruitment</td>\n",
       "      <td>0</td>\n",
       "      <td>0.0</td>\n",
       "    </tr>\n",
       "    <tr>\n",
       "      <th>5</th>\n",
       "      <td>Trainings_Attended</td>\n",
       "      <td>0</td>\n",
       "      <td>0.0</td>\n",
       "    </tr>\n",
       "    <tr>\n",
       "      <th>6</th>\n",
       "      <td>Last_performance_score</td>\n",
       "      <td>0</td>\n",
       "      <td>0.0</td>\n",
       "    </tr>\n",
       "    <tr>\n",
       "      <th>7</th>\n",
       "      <td>Targets_met</td>\n",
       "      <td>0</td>\n",
       "      <td>0.0</td>\n",
       "    </tr>\n",
       "    <tr>\n",
       "      <th>8</th>\n",
       "      <td>Previous_Award</td>\n",
       "      <td>0</td>\n",
       "      <td>0.0</td>\n",
       "    </tr>\n",
       "    <tr>\n",
       "      <th>9</th>\n",
       "      <td>Foreign_schooled</td>\n",
       "      <td>0</td>\n",
       "      <td>0.0</td>\n",
       "    </tr>\n",
       "    <tr>\n",
       "      <th>10</th>\n",
       "      <td>Marital_Status</td>\n",
       "      <td>0</td>\n",
       "      <td>0.0</td>\n",
       "    </tr>\n",
       "    <tr>\n",
       "      <th>11</th>\n",
       "      <td>Past_Disciplinary_Action</td>\n",
       "      <td>0</td>\n",
       "      <td>0.0</td>\n",
       "    </tr>\n",
       "    <tr>\n",
       "      <th>12</th>\n",
       "      <td>No_of_previous_employers</td>\n",
       "      <td>0</td>\n",
       "      <td>0.0</td>\n",
       "    </tr>\n",
       "    <tr>\n",
       "      <th>13</th>\n",
       "      <td>Promoted_or_Not</td>\n",
       "      <td>0</td>\n",
       "      <td>0.0</td>\n",
       "    </tr>\n",
       "    <tr>\n",
       "      <th>14</th>\n",
       "      <td>Training_scores</td>\n",
       "      <td>0</td>\n",
       "      <td>0.0</td>\n",
       "    </tr>\n",
       "    <tr>\n",
       "      <th>15</th>\n",
       "      <td>Age_2</td>\n",
       "      <td>0</td>\n",
       "      <td>0.0</td>\n",
       "    </tr>\n",
       "    <tr>\n",
       "      <th>16</th>\n",
       "      <td>Yearss_of_recruitment</td>\n",
       "      <td>0</td>\n",
       "      <td>0.0</td>\n",
       "    </tr>\n",
       "  </tbody>\n",
       "</table>\n",
       "</div>"
      ],
      "text/plain": [
       "                    features  missing_counts  missing_percent\n",
       "0                 EmployeeNo               0              0.0\n",
       "1                   Division               0              0.0\n",
       "2              Qualification               0              0.0\n",
       "3                     Gender               0              0.0\n",
       "4     Channel_of_Recruitment               0              0.0\n",
       "5         Trainings_Attended               0              0.0\n",
       "6     Last_performance_score               0              0.0\n",
       "7                Targets_met               0              0.0\n",
       "8             Previous_Award               0              0.0\n",
       "9           Foreign_schooled               0              0.0\n",
       "10            Marital_Status               0              0.0\n",
       "11  Past_Disciplinary_Action               0              0.0\n",
       "12  No_of_previous_employers               0              0.0\n",
       "13           Promoted_or_Not               0              0.0\n",
       "14           Training_scores               0              0.0\n",
       "15                     Age_2               0              0.0\n",
       "16     Yearss_of_recruitment               0              0.0"
      ]
     },
     "execution_count": 5,
     "metadata": {},
     "output_type": "execute_result"
    }
   ],
   "source": [
    "ds.structdata.display_missing(train)"
   ]
  },
  {
   "cell_type": "code",
   "execution_count": 7,
   "metadata": {},
   "outputs": [],
   "source": [
    "#load submission file\n",
    "sub = pd.read_csv('sample_submit.csv')"
   ]
  },
  {
   "cell_type": "code",
   "execution_count": null,
   "metadata": {},
   "outputs": [],
   "source": []
  },
  {
   "cell_type": "code",
   "execution_count": 8,
   "metadata": {},
   "outputs": [],
   "source": [
    "#Target\n",
    "target = 'Promoted_or_Not'"
   ]
  },
  {
   "cell_type": "code",
   "execution_count": 9,
   "metadata": {},
   "outputs": [],
   "source": [
    "sample_submission= sub\n",
    "scoring_parameter = 'balanced-accuracy'"
   ]
  },
  {
   "cell_type": "code",
   "execution_count": 12,
   "metadata": {},
   "outputs": [
    {
     "name": "stdout",
     "output_type": "stream",
     "text": [
      "Train (Size: 36633,17) has Single_Label with target: ['Promoted_or_Not']\n",
      "\"\n",
      " ################### Binary-Class ##################### \" \n",
      "Shuffling the data set before training\n",
      " Class  -> Counts -> Percent\n",
      "     0:   33474  ->   91.4%\n",
      "     1:    3159  ->    8.6%\n",
      "Selecting Binary_Classification Classifier...\n",
      "    Using GridSearchCV for Hyper Parameter tuning...\n",
      "    Target Promoted_or_Not is already numeric. No transformation done.\n",
      "Classifying variables in data set...\n",
      "    Number of Numeric Columns =  0\n",
      "    Number of Integer-Categorical Columns =  10\n",
      "    Number of String-Categorical Columns =  0\n",
      "    Number of Factor-Categorical Columns =  0\n",
      "    Number of String-Boolean Columns =  0\n",
      "    Number of Numeric-Boolean Columns =  5\n",
      "    Number of Discrete String Columns =  0\n",
      "    Number of NLP String Columns =  0\n",
      "    Number of Date Time Columns =  0\n",
      "    Number of ID Columns =  1\n",
      "    Number of Columns to Delete =  0\n",
      "    16 Predictors classified...\n",
      "        This does not include the Target column(s)\n",
      "    1 variables removed since they were ID or low-information variables\n",
      "\n",
      "No GPU available on this device\n",
      "Test data has no missing values...\n",
      "Trying Feature Selection among 15 numeric variables...\n",
      "    No variables were removed since no highly correlated variables found in data\n",
      "\n",
      "Detected this as a Binary_Classification problem...\n",
      "    After variable removal, 15 predictors left...\n",
      "    No Categorical feature selection since 0 categorical features...\n",
      "Trying Feature Selection among 15 numeric variables...\n",
      "    No variables were removed since no highly correlated variables found in data\n",
      "    Adding 0 categorical variables to reduced numeric variables  of 15\n",
      "Current number of predictors = 15 \n",
      "    Finding Important Features using Boosted Trees algorithm...\n",
      "        using 15 variables...\n",
      "        using 12 variables...\n",
      "        using 9 variables...\n",
      "        using 6 variables...\n",
      "        using 3 variables...\n",
      "Found 15 important features\n",
      "    Selected Features: ['Targets_met', 'Previous_Award', 'Training_scores', 'Division', 'Last_performance_score', 'Gender', 'Yearss_of_recruitment', 'Channel_of_Recruitment', 'Qualification', 'Age_2', 'No_of_previous_employers', 'Trainings_Attended', 'Marital_Status', 'Foreign_schooled', 'Past_Disciplinary_Action']\n",
      "Starting Feature Engineering now...\n",
      "    No Entropy Binning specified or there are no numeric vars in data set to Bin\n",
      "CAUTION: Stacking can produce Highly Overfit models on Training Data...\n",
      "    Time taken for Stacking: 0.1 seconds\n",
      "    Time taken for Stacking: 0.0 seconds\n",
      "    Adding 2 Stacking feature(s) to training data\n",
      "\n",
      "Rows in Train data set = 32969\n",
      "  Features in Train data set = 17\n",
      "    Rows in held-out data set = 3664\n",
      "Finding Best Model and Hyper Parameters for Target: Promoted_or_Not...\n",
      "    Baseline Accuracy Needed for Model = 91.38%\n",
      "CPU Count = 4 in this device\n",
      "Using Forests Model, Estimated Training time = 3.5 mins\n",
      "    Model training time (in seconds): 2070\n",
      "5-fold Cross Validation  balanced-accuracy = 53.7%\n",
      "    Best Parameters for Model = {'criterion': 'entropy', 'max_depth': 10, 'n_estimators': 100}\n",
      "Finding Best Threshold for Highest F1 Score...\n",
      "    Using threshold=0.5. However, 0.16 provides better F1=0.37 for rare class...\n",
      "########################################################\n",
      "Forests Model Prediction Results on Held Out CV Data Set:\n",
      "    OOB Score = 0.919\n",
      "    Regular Accuracy Score = 91.9%\n",
      "    Balanced Accuracy Score = 53.8%\n",
      "              precision    recall  f1-score   support\n",
      "\n",
      "           0       0.92      1.00      0.96      3350\n",
      "           1       0.74      0.08      0.14       314\n",
      "\n",
      "    accuracy                           0.92      3664\n",
      "   macro avg       0.83      0.54      0.55      3664\n",
      "weighted avg       0.90      0.92      0.89      3664\n",
      "\n",
      "[[3341    9]\n",
      " [ 289   25]]\n",
      "########################################################################\n",
      "No Ensembling of models done since Stacking_Flag = True \n"
     ]
    },
    {
     "data": {
      "image/png": "[encoded data removed]",
      "text/plain": [
       "<Figure size 720x432 with 1 Axes>"
      ]
     },
     "metadata": {},
     "output_type": "display_data"
    },
    {
     "name": "stdout",
     "output_type": "stream",
     "text": [
      "Average precision-recall score: 0.83\n",
      "Macro F1 score, averaged over all classes: 0.55\n"
     ]
    },
    {
     "data": {
      "image/png": "[encoded data removed]",
      "text/plain": [
       "<Figure size 720x432 with 1 Axes>"
      ]
     },
     "metadata": {},
     "output_type": "display_data"
    },
    {
     "name": "stdout",
     "output_type": "stream",
     "text": [
      "No evaluation metrics plot available for this model\n",
      "    Time taken for this Target (in seconds) = 2084\n",
      "Plotting Feature Importances to explain the output of model\n",
      "###################################################################################\n",
      "Training model on complete Train data and Predicting using give Test Data...\n",
      "    No Entropy Binning specified or there are no numeric vars in data set to Bin\n",
      "CAUTION: Stacking can produce Highly Overfit models on Training Data...\n",
      "    Time taken for Stacking: 0.3 seconds\n",
      "    Adding 2 Stacking feature(s) to training data\n",
      "    Time taken for Stacking: 0.0 seconds\n",
      "Model Training time taken in seconds = 1\n",
      "Test Data predictions using Threshold = 0.5\n",
      "    Saving predictions to .\\Promoted_or_Not\\Promoted_or_Not_Binary_Classification_test_modified.csv\n",
      "    Saving sample_submission...\n",
      "    Saving predictions to .\\Promoted_or_Not\\Promoted_or_Not_Binary_Classification_submission.csv\n",
      "    Saving predictions to .\\Promoted_or_Not\\Promoted_or_Not_Binary_Classification_train_modified.csv\n",
      "###################################################################################\n",
      "Time Taken in mins = 34.8 for the Entire Process\n"
     ]
    },
    {
     "data": {
      "image/png": "[encoded data removed]",
      "text/plain": [
       "<Figure size 720x360 with 1 Axes>"
      ]
     },
     "metadata": {},
     "output_type": "display_data"
    }
   ],
   "source": [
    "m, feats, trainm, testm = Auto_ViML(train, target, test, sample_submission,\n",
    "                                    scoring_parameter=scoring_parameter,\n",
    "                                    hyper_param='GS',feature_reduction=True,\n",
    "                                     Boosting_Flag=False,Binning_Flag=False,\n",
    "                                    Add_Poly=0, Stacking_Flag=True,                                    \n",
    "                                    Imbalanced_Flag=False, \n",
    "                                    verbose=1)"
   ]
  },
  {
   "cell_type": "code",
   "execution_count": 15,
   "metadata": {},
   "outputs": [],
   "source": [
    "sub = pd.read_csv('submit.csv')"
   ]
  },
  {
   "cell_type": "code",
   "execution_count": 16,
   "metadata": {},
   "outputs": [
    {
     "data": {
      "text/html": [
       "<div>\n",
       "<style scoped>\n",
       "    .dataframe tbody tr th:only-of-type {\n",
       "        vertical-align: middle;\n",
       "    }\n",
       "\n",
       "    .dataframe tbody tr th {\n",
       "        vertical-align: top;\n",
       "    }\n",
       "\n",
       "    .dataframe thead th {\n",
       "        text-align: right;\n",
       "    }\n",
       "</style>\n",
       "<table border=\"1\" class=\"dataframe\">\n",
       "  <thead>\n",
       "    <tr style=\"text-align: right;\">\n",
       "      <th></th>\n",
       "      <th>EmployeeNo</th>\n",
       "      <th>Promoted_or_Not</th>\n",
       "      <th>Promoted_or_Not_proba_0</th>\n",
       "      <th>Promoted_or_Not_proba_1</th>\n",
       "      <th>Promoted_or_Not_Stacked_predictions</th>\n",
       "    </tr>\n",
       "  </thead>\n",
       "  <tbody>\n",
       "    <tr>\n",
       "      <th>0</th>\n",
       "      <td>YAK/S/34385</td>\n",
       "      <td>1</td>\n",
       "      <td>0.978389</td>\n",
       "      <td>0.021611</td>\n",
       "      <td>0</td>\n",
       "    </tr>\n",
       "    <tr>\n",
       "      <th>1</th>\n",
       "      <td>YAK/S/27825</td>\n",
       "      <td>1</td>\n",
       "      <td>0.973686</td>\n",
       "      <td>0.026314</td>\n",
       "      <td>0</td>\n",
       "    </tr>\n",
       "    <tr>\n",
       "      <th>2</th>\n",
       "      <td>YAK/S/23870</td>\n",
       "      <td>1</td>\n",
       "      <td>0.879451</td>\n",
       "      <td>0.120549</td>\n",
       "      <td>0</td>\n",
       "    </tr>\n",
       "    <tr>\n",
       "      <th>3</th>\n",
       "      <td>YAK/S/54784</td>\n",
       "      <td>1</td>\n",
       "      <td>0.941097</td>\n",
       "      <td>0.058903</td>\n",
       "      <td>0</td>\n",
       "    </tr>\n",
       "    <tr>\n",
       "      <th>4</th>\n",
       "      <td>YAK/S/25058</td>\n",
       "      <td>1</td>\n",
       "      <td>0.849803</td>\n",
       "      <td>0.150197</td>\n",
       "      <td>0</td>\n",
       "    </tr>\n",
       "  </tbody>\n",
       "</table>\n",
       "</div>"
      ],
      "text/plain": [
       "    EmployeeNo  Promoted_or_Not  Promoted_or_Not_proba_0  \\\n",
       "0  YAK/S/34385                1                 0.978389   \n",
       "1  YAK/S/27825                1                 0.973686   \n",
       "2  YAK/S/23870                1                 0.879451   \n",
       "3  YAK/S/54784                1                 0.941097   \n",
       "4  YAK/S/25058                1                 0.849803   \n",
       "\n",
       "   Promoted_or_Not_proba_1  Promoted_or_Not_Stacked_predictions  \n",
       "0                 0.021611                                    0  \n",
       "1                 0.026314                                    0  \n",
       "2                 0.120549                                    0  \n",
       "3                 0.058903                                    0  \n",
       "4                 0.150197                                    0  "
      ]
     },
     "execution_count": 16,
     "metadata": {},
     "output_type": "execute_result"
    }
   ],
   "source": [
    "sub.head()"
   ]
  },
  {
   "cell_type": "code",
   "execution_count": 26,
   "metadata": {},
   "outputs": [],
   "source": [
    "new_sub = sub[['EmployeeNo', 'Promoted_or_Not_Stacked_predictions']]"
   ]
  },
  {
   "cell_type": "code",
   "execution_count": 27,
   "metadata": {},
   "outputs": [],
   "source": [
    "new_sub.to_csv('subb.csv', index = False)"
   ]
  },
  {
   "cell_type": "code",
   "execution_count": 28,
   "metadata": {},
   "outputs": [
    {
     "data": {
      "text/html": [
       "<div>\n",
       "<style scoped>\n",
       "    .dataframe tbody tr th:only-of-type {\n",
       "        vertical-align: middle;\n",
       "    }\n",
       "\n",
       "    .dataframe tbody tr th {\n",
       "        vertical-align: top;\n",
       "    }\n",
       "\n",
       "    .dataframe thead th {\n",
       "        text-align: right;\n",
       "    }\n",
       "</style>\n",
       "<table border=\"1\" class=\"dataframe\">\n",
       "  <thead>\n",
       "    <tr style=\"text-align: right;\">\n",
       "      <th></th>\n",
       "      <th>EmployeeNo</th>\n",
       "      <th>Promoted_or_Not_Stacked_predictions</th>\n",
       "    </tr>\n",
       "  </thead>\n",
       "  <tbody>\n",
       "    <tr>\n",
       "      <th>0</th>\n",
       "      <td>YAK/S/34385</td>\n",
       "      <td>0</td>\n",
       "    </tr>\n",
       "    <tr>\n",
       "      <th>1</th>\n",
       "      <td>YAK/S/27825</td>\n",
       "      <td>0</td>\n",
       "    </tr>\n",
       "    <tr>\n",
       "      <th>2</th>\n",
       "      <td>YAK/S/23870</td>\n",
       "      <td>0</td>\n",
       "    </tr>\n",
       "    <tr>\n",
       "      <th>3</th>\n",
       "      <td>YAK/S/54784</td>\n",
       "      <td>0</td>\n",
       "    </tr>\n",
       "    <tr>\n",
       "      <th>4</th>\n",
       "      <td>YAK/S/25058</td>\n",
       "      <td>0</td>\n",
       "    </tr>\n",
       "  </tbody>\n",
       "</table>\n",
       "</div>"
      ],
      "text/plain": [
       "    EmployeeNo  Promoted_or_Not_Stacked_predictions\n",
       "0  YAK/S/34385                                    0\n",
       "1  YAK/S/27825                                    0\n",
       "2  YAK/S/23870                                    0\n",
       "3  YAK/S/54784                                    0\n",
       "4  YAK/S/25058                                    0"
      ]
     },
     "execution_count": 28,
     "metadata": {},
     "output_type": "execute_result"
    }
   ],
   "source": [
    "new_sub.head()"
   ]
  },
  {
   "cell_type": "code",
   "execution_count": null,
   "metadata": {},
   "outputs": [],
   "source": []
  },
  {
   "cell_type": "code",
   "execution_count": null,
   "metadata": {},
   "outputs": [],
   "source": []
  }
 ],
 "metadata": {
  "kernelspec": {
   "display_name": "Python 3",
   "language": "python",
   "name": "python3"
  },
  "language_info": {
   "codemirror_mode": {
    "name": "ipython",
    "version": 3
   },
   "file_extension": ".py",
   "mimetype": "text/x-python",
   "name": "python",
   "nbconvert_exporter": "python",
   "pygments_lexer": "ipython3",
   "version": "3.6.5"
  }
 },
 "nbformat": 4,
 "nbformat_minor": 2
}
